{
 "cells": [
  {
   "cell_type": "code",
   "execution_count": 1,
   "metadata": {
    "collapsed": true
   },
   "outputs": [],
   "source": [
    "import numpy as np\n",
    "import pandas as pd"
   ]
  },
  {
   "cell_type": "code",
   "execution_count": 2,
   "metadata": {
    "collapsed": false
   },
   "outputs": [
    {
     "data": {
      "text/plain": [
       "(u'0.17.1', '1.10.1')"
      ]
     },
     "execution_count": 2,
     "metadata": {},
     "output_type": "execute_result"
    }
   ],
   "source": [
    "pd.__version__, np.__version__"
   ]
  },
  {
   "cell_type": "code",
   "execution_count": 3,
   "metadata": {
    "collapsed": false
   },
   "outputs": [
    {
     "name": "stdout",
     "output_type": "stream",
     "text": [
      "(506, 14)\n",
      "Index([u'crim', u'zn', u'indus', u'chas', u'nox', u'rm', u'age', u'dis',\n",
      "       u'rad', u'tax', u'ptratio', u'black', u'lstat', u'medv'],\n",
      "      dtype='object')\n"
     ]
    },
    {
     "data": {
      "text/html": [
       "<div>\n",
       "<table border=\"1\" class=\"dataframe\">\n",
       "  <thead>\n",
       "    <tr style=\"text-align: right;\">\n",
       "      <th></th>\n",
       "      <th>crim</th>\n",
       "      <th>zn</th>\n",
       "      <th>indus</th>\n",
       "      <th>chas</th>\n",
       "      <th>nox</th>\n",
       "      <th>rm</th>\n",
       "      <th>age</th>\n",
       "      <th>dis</th>\n",
       "      <th>rad</th>\n",
       "      <th>tax</th>\n",
       "      <th>ptratio</th>\n",
       "      <th>black</th>\n",
       "      <th>lstat</th>\n",
       "      <th>medv</th>\n",
       "    </tr>\n",
       "  </thead>\n",
       "  <tbody>\n",
       "    <tr>\n",
       "      <th>0</th>\n",
       "      <td>0.00632</td>\n",
       "      <td>18</td>\n",
       "      <td>2.31</td>\n",
       "      <td>0</td>\n",
       "      <td>0.538</td>\n",
       "      <td>6.575</td>\n",
       "      <td>65.2</td>\n",
       "      <td>4.0900</td>\n",
       "      <td>1</td>\n",
       "      <td>296</td>\n",
       "      <td>15.3</td>\n",
       "      <td>396.90</td>\n",
       "      <td>4.98</td>\n",
       "      <td>24.0</td>\n",
       "    </tr>\n",
       "    <tr>\n",
       "      <th>1</th>\n",
       "      <td>0.02731</td>\n",
       "      <td>0</td>\n",
       "      <td>7.07</td>\n",
       "      <td>0</td>\n",
       "      <td>0.469</td>\n",
       "      <td>6.421</td>\n",
       "      <td>78.9</td>\n",
       "      <td>4.9671</td>\n",
       "      <td>2</td>\n",
       "      <td>242</td>\n",
       "      <td>17.8</td>\n",
       "      <td>396.90</td>\n",
       "      <td>9.14</td>\n",
       "      <td>21.6</td>\n",
       "    </tr>\n",
       "    <tr>\n",
       "      <th>2</th>\n",
       "      <td>0.02729</td>\n",
       "      <td>0</td>\n",
       "      <td>7.07</td>\n",
       "      <td>0</td>\n",
       "      <td>0.469</td>\n",
       "      <td>7.185</td>\n",
       "      <td>61.1</td>\n",
       "      <td>4.9671</td>\n",
       "      <td>2</td>\n",
       "      <td>242</td>\n",
       "      <td>17.8</td>\n",
       "      <td>392.83</td>\n",
       "      <td>4.03</td>\n",
       "      <td>34.7</td>\n",
       "    </tr>\n",
       "    <tr>\n",
       "      <th>3</th>\n",
       "      <td>0.03237</td>\n",
       "      <td>0</td>\n",
       "      <td>2.18</td>\n",
       "      <td>0</td>\n",
       "      <td>0.458</td>\n",
       "      <td>6.998</td>\n",
       "      <td>45.8</td>\n",
       "      <td>6.0622</td>\n",
       "      <td>3</td>\n",
       "      <td>222</td>\n",
       "      <td>18.7</td>\n",
       "      <td>394.63</td>\n",
       "      <td>2.94</td>\n",
       "      <td>33.4</td>\n",
       "    </tr>\n",
       "    <tr>\n",
       "      <th>4</th>\n",
       "      <td>0.06905</td>\n",
       "      <td>0</td>\n",
       "      <td>2.18</td>\n",
       "      <td>0</td>\n",
       "      <td>0.458</td>\n",
       "      <td>7.147</td>\n",
       "      <td>54.2</td>\n",
       "      <td>6.0622</td>\n",
       "      <td>3</td>\n",
       "      <td>222</td>\n",
       "      <td>18.7</td>\n",
       "      <td>396.90</td>\n",
       "      <td>5.33</td>\n",
       "      <td>36.2</td>\n",
       "    </tr>\n",
       "  </tbody>\n",
       "</table>\n",
       "</div>"
      ],
      "text/plain": [
       "      crim  zn  indus  chas    nox     rm   age     dis  rad  tax  ptratio  \\\n",
       "0  0.00632  18   2.31     0  0.538  6.575  65.2  4.0900    1  296     15.3   \n",
       "1  0.02731   0   7.07     0  0.469  6.421  78.9  4.9671    2  242     17.8   \n",
       "2  0.02729   0   7.07     0  0.469  7.185  61.1  4.9671    2  242     17.8   \n",
       "3  0.03237   0   2.18     0  0.458  6.998  45.8  6.0622    3  222     18.7   \n",
       "4  0.06905   0   2.18     0  0.458  7.147  54.2  6.0622    3  222     18.7   \n",
       "\n",
       "    black  lstat  medv  \n",
       "0  396.90   4.98  24.0  \n",
       "1  396.90   9.14  21.6  \n",
       "2  392.83   4.03  34.7  \n",
       "3  394.63   2.94  33.4  \n",
       "4  396.90   5.33  36.2  "
      ]
     },
     "execution_count": 3,
     "metadata": {},
     "output_type": "execute_result"
    }
   ],
   "source": [
    "Boston = pd.read_csv('../data_sets/Boston.csv')\n",
    "print Boston.shape\n",
    "print Boston.columns\n",
    "Boston.head()"
   ]
  },
  {
   "cell_type": "code",
   "execution_count": 4,
   "metadata": {
    "collapsed": false
   },
   "outputs": [
    {
     "data": {
      "text/plain": [
       "'1.5.0'"
      ]
     },
     "execution_count": 4,
     "metadata": {},
     "output_type": "execute_result"
    }
   ],
   "source": [
    "import matplotlib.pyplot as plt\n",
    "import matplotlib\n",
    "%matplotlib inline\n",
    "matplotlib.style.use('ggplot')\n",
    "matplotlib.__version__"
   ]
  },
  {
   "cell_type": "code",
   "execution_count": 5,
   "metadata": {
    "collapsed": false
   },
   "outputs": [
    {
     "data": {
      "text/plain": [
       "<matplotlib.axes._subplots.AxesSubplot at 0xbae41d0>"
      ]
     },
     "execution_count": 5,
     "metadata": {},
     "output_type": "execute_result"
    },
    {
     "data": {
      "image/png": "[encoded data removed]",
      "text/plain": [
       "<matplotlib.figure.Figure at 0xa20e8d0>"
      ]
     },
     "metadata": {},
     "output_type": "display_data"
    }
   ],
   "source": [
    "Boston.plot(kind='scatter', x='lstat', y='medv', figsize=(8,8))"
   ]
  },
  {
   "cell_type": "markdown",
   "metadata": {},
   "source": [
    "## line fit with numpy\n",
    "Source: http://docs.scipy.org/doc/numpy-1.10.0/reference/generated/numpy.polyfit.html"
   ]
  },
  {
   "cell_type": "markdown",
   "metadata": {},
   "source": [
    "### fit1 - linear model (polyfit / linspace)"
   ]
  },
  {
   "cell_type": "code",
   "execution_count": 6,
   "metadata": {
    "collapsed": false
   },
   "outputs": [
    {
     "name": "stdout",
     "output_type": "stream",
     "text": [
      "slope: -0.95\n",
      "intercept: 34.55\n",
      " \n",
      "-0.95 x + 34.55 \n",
      "\n",
      "[ -5.          -4.54545455  -4.09090909  -3.63636364  -3.18181818\n",
      "  -2.72727273  -2.27272727  -1.81818182  -1.36363636  -0.90909091\n",
      "  -0.45454545   0.           0.45454545   0.90909091   1.36363636\n",
      "   1.81818182   2.27272727   2.72727273   3.18181818   3.63636364\n",
      "   4.09090909   4.54545455   5.           5.45454545   5.90909091\n",
      "   6.36363636   6.81818182   7.27272727   7.72727273   8.18181818\n",
      "   8.63636364   9.09090909   9.54545455  10.          10.45454545\n",
      "  10.90909091  11.36363636  11.81818182  12.27272727  12.72727273\n",
      "  13.18181818  13.63636364  14.09090909  14.54545455  15.          15.45454545\n",
      "  15.90909091  16.36363636  16.81818182  17.27272727  17.72727273\n",
      "  18.18181818  18.63636364  19.09090909  19.54545455  20.          20.45454545\n",
      "  20.90909091  21.36363636  21.81818182  22.27272727  22.72727273\n",
      "  23.18181818  23.63636364  24.09090909  24.54545455  25.          25.45454545\n",
      "  25.90909091  26.36363636  26.81818182  27.27272727  27.72727273\n",
      "  28.18181818  28.63636364  29.09090909  29.54545455  30.          30.45454545\n",
      "  30.90909091  31.36363636  31.81818182  32.27272727  32.72727273\n",
      "  33.18181818  33.63636364  34.09090909  34.54545455  35.          35.45454545\n",
      "  35.90909091  36.36363636  36.81818182  37.27272727  37.72727273\n",
      "  38.18181818  38.63636364  39.09090909  39.54545455  40.        ]\n"
     ]
    }
   ],
   "source": [
    "z = np.polyfit(Boston.lstat, Boston.medv, 1)\n",
    "print 'slope: %.2f\\nintercept: %.2f' % (z[0],z[1])\n",
    "\n",
    "p = np.poly1d(z)\n",
    "print p, '\\n'\n",
    "\n",
    "xp = np.linspace(-5, 40, 100)\n",
    "print xp"
   ]
  },
  {
   "cell_type": "code",
   "execution_count": 7,
   "metadata": {
    "collapsed": false
   },
   "outputs": [
    {
     "data": {
      "text/plain": [
       "<matplotlib.text.Text at 0xbe08550>"
      ]
     },
     "execution_count": 7,
     "metadata": {},
     "output_type": "execute_result"
    },
    {
     "data": {
      "image/png": "[encoded data removed]",
      "text/plain": [
       "<matplotlib.figure.Figure at 0xbbe7940>"
      ]
     },
     "metadata": {},
     "output_type": "display_data"
    }
   ],
   "source": [
    "fig = plt.figure(figsize=(8,8))\n",
    "plt.plot(Boston.lstat, Boston.medv, '.', xp, p(xp), '-')\n",
    "plt.xlabel('lower status of the population (percent)')\n",
    "plt.ylabel('median value in $1000s')\n",
    "plt.ylim(0,60)\n",
    "plt.title('Housing Values in Suburbs of Boston')"
   ]
  },
  {
   "cell_type": "code",
   "execution_count": 8,
   "metadata": {
    "collapsed": false
   },
   "outputs": [
    {
     "data": {
      "text/plain": [
       "[29.803594110593117, 25.053347341803171, 20.303100573013225]"
      ]
     },
     "execution_count": 8,
     "metadata": {},
     "output_type": "execute_result"
    }
   ],
   "source": [
    "# predict medv for list of lstat values\n",
    "lstat_vals = [5, 10, 15]\n",
    "medv_pred = [p(x) for x in lstat_vals]\n",
    "medv_pred"
   ]
  },
  {
   "cell_type": "markdown",
   "metadata": {},
   "source": [
    "### fit1 - linear model (linalg)\n",
    "Source: http://stackoverflow.com/questions/17679140/multiple-linear-regression-with-python"
   ]
  },
  {
   "cell_type": "code",
   "execution_count": 9,
   "metadata": {
    "collapsed": false
   },
   "outputs": [
    {
     "data": {
      "text/plain": [
       "(array([ 34.55384088,  -0.95004935]),\n",
       " array([ 19472.38141833]),\n",
       " 2,\n",
       " array([ 327.33368848,   11.02790503]))"
      ]
     },
     "execution_count": 9,
     "metadata": {},
     "output_type": "execute_result"
    }
   ],
   "source": [
    "x = Boston.lstat\n",
    "y = Boston.medv\n",
    "n = np.max(x.shape)\n",
    "X = np.vstack([np.ones(n), x]).T\n",
    "\n",
    "np.linalg.lstsq(X,y)"
   ]
  },
  {
   "cell_type": "markdown",
   "metadata": {},
   "source": [
    "### fit2 - multiple linear regression"
   ]
  },
  {
   "cell_type": "code",
   "execution_count": 10,
   "metadata": {
    "collapsed": false
   },
   "outputs": [
    {
     "data": {
      "text/plain": [
       "(array([ 33.22276053,  -1.03206856,   0.03454434]),\n",
       " array([ 19168.12860876]),\n",
       " 3,\n",
       " array([ 1694.28048854,   127.3808657 ,     8.44568021]))"
      ]
     },
     "execution_count": 10,
     "metadata": {},
     "output_type": "execute_result"
    }
   ],
   "source": [
    "x1 = Boston.lstat\n",
    "x2 = Boston.age\n",
    "y = Boston.medv\n",
    "n = np.max(x.shape)\n",
    "X = np.vstack([np.ones(n), x1, x2]).T\n",
    "\n",
    "np.linalg.lstsq(X,y)"
   ]
  },
  {
   "cell_type": "markdown",
   "metadata": {},
   "source": [
    "### ...\n",
    "### fit5, 6, & 7 - nonlinear terms & interactions"
   ]
  },
  {
   "cell_type": "code",
   "execution_count": 11,
   "metadata": {
    "collapsed": false
   },
   "outputs": [
    {
     "data": {
      "text/plain": [
       "(array([  3.60885359e+01,  -1.39211684e+00,  -7.20859509e-04,\n",
       "          4.15595185e-03]),\n",
       " array([ 18977.71614459]),\n",
       " 4,\n",
       " array([  2.86327168e+04,   7.19830139e+02,   7.05317683e+01,\n",
       "          4.16316825e+00]))"
      ]
     },
     "execution_count": 11,
     "metadata": {},
     "output_type": "execute_result"
    }
   ],
   "source": [
    "# fit5: medv~lstat*age\n",
    "x1 = Boston.lstat\n",
    "x2 = Boston.age\n",
    "x3 = x1 * x2\n",
    "y = Boston.medv\n",
    "n = np.max(x.shape)\n",
    "X = np.vstack([np.ones(n), x1, x2, x3]).T\n",
    "\n",
    "np.linalg.lstsq(X,y)"
   ]
  },
  {
   "cell_type": "code",
   "execution_count": 12,
   "metadata": {
    "collapsed": false
   },
   "outputs": [
    {
     "data": {
      "text/plain": [
       "(array([ 42.86200733,  -2.3328211 ,   0.04354689]),\n",
       " array([ 15347.24315838]),\n",
       " 3,\n",
       " array([  7.12465104e+03,   1.18998689e+02,   6.27971688e+00]))"
      ]
     },
     "execution_count": 12,
     "metadata": {},
     "output_type": "execute_result"
    }
   ],
   "source": [
    "# fit6: medv ~ lstat + I(lstat**2)\n",
    "x1 = Boston.lstat\n",
    "x2 = Boston.lstat ** 2\n",
    "\n",
    "y = Boston.medv\n",
    "n = np.max(x.shape)\n",
    "X = np.vstack([np.ones(n), x1, x2]).T\n",
    "\n",
    "np.linalg.lstsq(X,y)"
   ]
  },
  {
   "cell_type": "markdown",
   "metadata": {},
   "source": [
    "## OLS with statsmodels\n",
    "Source: http://statsmodels.sourceforge.net/devel/examples/notebooks/generated/ols.html"
   ]
  },
  {
   "cell_type": "code",
   "execution_count": 13,
   "metadata": {
    "collapsed": false
   },
   "outputs": [],
   "source": [
    "import statsmodels.api as sm"
   ]
  },
  {
   "cell_type": "markdown",
   "metadata": {},
   "source": [
    "### fit1 - linear model"
   ]
  },
  {
   "cell_type": "code",
   "execution_count": 14,
   "metadata": {
    "collapsed": false
   },
   "outputs": [],
   "source": [
    "X = Boston.lstat\n",
    "X = sm.add_constant(X)"
   ]
  },
  {
   "cell_type": "code",
   "execution_count": 15,
   "metadata": {
    "collapsed": false
   },
   "outputs": [
    {
     "name": "stdout",
     "output_type": "stream",
     "text": [
      "                            OLS Regression Results                            \n",
      "==============================================================================\n",
      "Dep. Variable:                   medv   R-squared:                       0.544\n",
      "Model:                            OLS   Adj. R-squared:                  0.543\n",
      "Method:                 Least Squares   F-statistic:                     601.6\n",
      "Date:                Mon, 22 Feb 2016   Prob (F-statistic):           5.08e-88\n",
      "Time:                        16:31:46   Log-Likelihood:                -1641.5\n",
      "No. Observations:                 506   AIC:                             3287.\n",
      "Df Residuals:                     504   BIC:                             3295.\n",
      "Df Model:                           1                                         \n",
      "Covariance Type:            nonrobust                                         \n",
      "==============================================================================\n",
      "                 coef    std err          t      P>|t|      [95.0% Conf. Int.]\n",
      "------------------------------------------------------------------------------\n",
      "const         34.5538      0.563     61.415      0.000        33.448    35.659\n",
      "lstat         -0.9500      0.039    -24.528      0.000        -1.026    -0.874\n",
      "==============================================================================\n",
      "Omnibus:                      137.043   Durbin-Watson:                   0.892\n",
      "Prob(Omnibus):                  0.000   Jarque-Bera (JB):              291.373\n",
      "Skew:                           1.453   Prob(JB):                     5.36e-64\n",
      "Kurtosis:                       5.319   Cond. No.                         29.7\n",
      "==============================================================================\n",
      "\n",
      "Warnings:\n",
      "[1] Standard Errors assume that the covariance matrix of the errors is correctly specified.\n"
     ]
    }
   ],
   "source": [
    "model = sm.OLS(Boston.medv, X)\n",
    "fit1 = model.fit()\n",
    "print fit1.summary()"
   ]
  },
  {
   "cell_type": "code",
   "execution_count": 16,
   "metadata": {
    "collapsed": false
   },
   "outputs": [
    {
     "name": "stdout",
     "output_type": "stream",
     "text": [
      "34.5538408794 -0.950049353758\n"
     ]
    }
   ],
   "source": [
    "# OLS parameters\n",
    "# intercept & slope\n",
    "b, m = fit1.params\n",
    "print b, m"
   ]
  },
  {
   "cell_type": "code",
   "execution_count": 17,
   "metadata": {
    "collapsed": false,
    "scrolled": true
   },
   "outputs": [
    {
     "name": "stdout",
     "output_type": "stream",
     "text": [
      "Confidence Interval\n",
      "               0          1\n",
      "const  33.448457  35.659225\n",
      "lstat  -1.026148  -0.873951\n",
      "\n",
      "Residuals Summary\n",
      "count    5.060000e+02\n",
      "mean     6.989578e-15\n",
      "std      6.209603e+00\n",
      "min     -1.516745e+01\n",
      "25%     -3.989612e+00\n",
      "50%     -1.318186e+00\n",
      "75%      2.033701e+00\n",
      "max      2.450013e+01\n",
      "dtype: float64\n",
      "\n",
      "Residuals (Squared) Sum\n",
      "19472.3814183\n"
     ]
    }
   ],
   "source": [
    "print 'Confidence Interval\\n', fit1.conf_int()\n",
    "print '\\nResiduals Summary\\n', fit1.resid.describe()\n",
    "print '\\nResiduals (Squared) Sum\\n', np.sum(np.square(fit1.resid))"
   ]
  },
  {
   "cell_type": "code",
   "execution_count": 18,
   "metadata": {
    "collapsed": false
   },
   "outputs": [
    {
     "data": {
      "text/plain": [
       "<matplotlib.text.Text at 0x1d54a7b8>"
      ]
     },
     "execution_count": 18,
     "metadata": {},
     "output_type": "execute_result"
    },
    {
     "data": {
      "image/png": "[encoded data removed]",
      "text/plain": [
       "<matplotlib.figure.Figure at 0x1d4c2710>"
      ]
     },
     "metadata": {},
     "output_type": "display_data"
    }
   ],
   "source": [
    "fig = plt.figure(figsize=(8,8))\n",
    "plt.plot(Boston.lstat, Boston.medv, 'g.', xp, m*xp + b, '--')\n",
    "plt.xlabel('lower status of the population (percent)')\n",
    "plt.ylabel('median value in $1000s')\n",
    "plt.ylim(0,60)\n",
    "plt.title('Housing Values in Suburbs of Boston')"
   ]
  },
  {
   "cell_type": "markdown",
   "metadata": {},
   "source": [
    "Source: http://statsmodels.sourceforge.net/0.6.0/examples/notebooks/generated/predict.html"
   ]
  },
  {
   "cell_type": "code",
   "execution_count": 19,
   "metadata": {
    "collapsed": false
   },
   "outputs": [
    {
     "name": "stdout",
     "output_type": "stream",
     "text": [
      "[ 29.80359411  25.05334734  20.30310057]\n"
     ]
    }
   ],
   "source": [
    "# prediction\n",
    "fit1.predict(X)\n",
    "X.shape\n",
    "x1n = np.linspace(5,15, 3)\n",
    "Xnew = np.reshape(x1n, (len(x1n),1))\n",
    "Xnew = sm.add_constant(Xnew)\n",
    "ynewpred =  fit1.predict(Xnew) # predict out of sample\n",
    "print(ynewpred)"
   ]
  },
  {
   "cell_type": "markdown",
   "metadata": {},
   "source": [
    "### plot with upper & lower confidence intervals"
   ]
  },
  {
   "cell_type": "markdown",
   "metadata": {},
   "source": [
    "Source: http://statsmodels.sourceforge.net/devel/examples/generated/example_ols.html"
   ]
  },
  {
   "cell_type": "code",
   "execution_count": 20,
   "metadata": {
    "collapsed": true
   },
   "outputs": [],
   "source": [
    "from statsmodels.sandbox.regression.predstd import wls_prediction_std"
   ]
  },
  {
   "cell_type": "code",
   "execution_count": 22,
   "metadata": {
    "collapsed": false
   },
   "outputs": [
    {
     "data": {
      "text/plain": [
       "<matplotlib.text.Text at 0x1dfb0a58>"
      ]
     },
     "execution_count": 22,
     "metadata": {},
     "output_type": "execute_result"
    },
    {
     "data": {
      "image/png": "[encoded data removed]",
      "text/plain": [
       "<matplotlib.figure.Figure at 0x1dcf5390>"
      ]
     },
     "metadata": {},
     "output_type": "display_data"
    }
   ],
   "source": [
    "fig = plt.figure(figsize=(8,8))\n",
    "plt.plot(Boston.lstat, Boston.medv, 'k.', xp, m*xp + b, 'b--')\n",
    "# Confidence intervals around the predictions are built using wls_prediction_std\n",
    "prstd, iv_l, iv_u = wls_prediction_std(fit1)\n",
    "plt.plot(X, iv_u, 'r--')\n",
    "plt.plot(X, iv_l, 'r--')\n",
    "plt.xlabel('lower status of the population (percent)')\n",
    "plt.ylabel('median value in $1000s')\n",
    "plt.ylim(0,60)\n",
    "plt.title('Housing Values in Suburbs of Boston')"
   ]
  },
  {
   "cell_type": "markdown",
   "metadata": {
    "collapsed": true
   },
   "source": [
    "### fit2 - multiple linear regression\n",
    "Source: http://www.datarobot.com/blog/multiple-regression-using-statsmodels/"
   ]
  },
  {
   "cell_type": "code",
   "execution_count": 23,
   "metadata": {
    "collapsed": false
   },
   "outputs": [],
   "source": [
    "X = Boston[['lstat', 'age']]\n",
    "y = Boston.medv"
   ]
  },
  {
   "cell_type": "code",
   "execution_count": 24,
   "metadata": {
    "collapsed": true
   },
   "outputs": [],
   "source": [
    "X = sm.add_constant(X)\n",
    "fit2 = sm.OLS(y, X).fit()"
   ]
  },
  {
   "cell_type": "code",
   "execution_count": 25,
   "metadata": {
    "collapsed": false
   },
   "outputs": [
    {
     "name": "stdout",
     "output_type": "stream",
     "text": [
      "                            OLS Regression Results                            \n",
      "==============================================================================\n",
      "Dep. Variable:                   medv   R-squared:                       0.551\n",
      "Model:                            OLS   Adj. R-squared:                  0.549\n",
      "Method:                 Least Squares   F-statistic:                     309.0\n",
      "Date:                Mon, 22 Feb 2016   Prob (F-statistic):           2.98e-88\n",
      "Time:                        16:33:33   Log-Likelihood:                -1637.5\n",
      "No. Observations:                 506   AIC:                             3281.\n",
      "Df Residuals:                     503   BIC:                             3294.\n",
      "Df Model:                           2                                         \n",
      "Covariance Type:            nonrobust                                         \n",
      "==============================================================================\n",
      "                 coef    std err          t      P>|t|      [95.0% Conf. Int.]\n",
      "------------------------------------------------------------------------------\n",
      "const         33.2228      0.731     45.458      0.000        31.787    34.659\n",
      "lstat         -1.0321      0.048    -21.416      0.000        -1.127    -0.937\n",
      "age            0.0345      0.012      2.826      0.005         0.011     0.059\n",
      "==============================================================================\n",
      "Omnibus:                      124.288   Durbin-Watson:                   0.945\n",
      "Prob(Omnibus):                  0.000   Jarque-Bera (JB):              244.026\n",
      "Skew:                           1.362   Prob(JB):                     1.02e-53\n",
      "Kurtosis:                       5.038   Cond. No.                         201.\n",
      "==============================================================================\n",
      "\n",
      "Warnings:\n",
      "[1] Standard Errors assume that the covariance matrix of the errors is correctly specified.\n"
     ]
    }
   ],
   "source": [
    "print fit2.summary()"
   ]
  },
  {
   "cell_type": "markdown",
   "metadata": {},
   "source": [
    "### fit3 & 4 - R-style formulas\n",
    "Source: http://statsmodels.sourceforge.net/devel/example_formulas.html"
   ]
  },
  {
   "cell_type": "code",
   "execution_count": 26,
   "metadata": {
    "collapsed": true
   },
   "outputs": [],
   "source": [
    "import statsmodels.formula.api as smf"
   ]
  },
  {
   "cell_type": "code",
   "execution_count": 27,
   "metadata": {
    "collapsed": false
   },
   "outputs": [
    {
     "data": {
      "text/html": [
       "<div>\n",
       "<table border=\"1\" class=\"dataframe\">\n",
       "  <thead>\n",
       "    <tr style=\"text-align: right;\">\n",
       "      <th></th>\n",
       "      <th>crim</th>\n",
       "      <th>zn</th>\n",
       "      <th>indus</th>\n",
       "      <th>chas</th>\n",
       "      <th>nox</th>\n",
       "      <th>rm</th>\n",
       "      <th>age</th>\n",
       "      <th>dis</th>\n",
       "      <th>rad</th>\n",
       "      <th>tax</th>\n",
       "      <th>ptratio</th>\n",
       "      <th>black</th>\n",
       "      <th>lstat</th>\n",
       "      <th>medv</th>\n",
       "    </tr>\n",
       "  </thead>\n",
       "  <tbody>\n",
       "    <tr>\n",
       "      <th>0</th>\n",
       "      <td>0.00632</td>\n",
       "      <td>18</td>\n",
       "      <td>2.31</td>\n",
       "      <td>0</td>\n",
       "      <td>0.538</td>\n",
       "      <td>6.575</td>\n",
       "      <td>65.2</td>\n",
       "      <td>4.0900</td>\n",
       "      <td>1</td>\n",
       "      <td>296</td>\n",
       "      <td>15.3</td>\n",
       "      <td>396.90</td>\n",
       "      <td>4.98</td>\n",
       "      <td>24.0</td>\n",
       "    </tr>\n",
       "    <tr>\n",
       "      <th>1</th>\n",
       "      <td>0.02731</td>\n",
       "      <td>0</td>\n",
       "      <td>7.07</td>\n",
       "      <td>0</td>\n",
       "      <td>0.469</td>\n",
       "      <td>6.421</td>\n",
       "      <td>78.9</td>\n",
       "      <td>4.9671</td>\n",
       "      <td>2</td>\n",
       "      <td>242</td>\n",
       "      <td>17.8</td>\n",
       "      <td>396.90</td>\n",
       "      <td>9.14</td>\n",
       "      <td>21.6</td>\n",
       "    </tr>\n",
       "    <tr>\n",
       "      <th>2</th>\n",
       "      <td>0.02729</td>\n",
       "      <td>0</td>\n",
       "      <td>7.07</td>\n",
       "      <td>0</td>\n",
       "      <td>0.469</td>\n",
       "      <td>7.185</td>\n",
       "      <td>61.1</td>\n",
       "      <td>4.9671</td>\n",
       "      <td>2</td>\n",
       "      <td>242</td>\n",
       "      <td>17.8</td>\n",
       "      <td>392.83</td>\n",
       "      <td>4.03</td>\n",
       "      <td>34.7</td>\n",
       "    </tr>\n",
       "    <tr>\n",
       "      <th>3</th>\n",
       "      <td>0.03237</td>\n",
       "      <td>0</td>\n",
       "      <td>2.18</td>\n",
       "      <td>0</td>\n",
       "      <td>0.458</td>\n",
       "      <td>6.998</td>\n",
       "      <td>45.8</td>\n",
       "      <td>6.0622</td>\n",
       "      <td>3</td>\n",
       "      <td>222</td>\n",
       "      <td>18.7</td>\n",
       "      <td>394.63</td>\n",
       "      <td>2.94</td>\n",
       "      <td>33.4</td>\n",
       "    </tr>\n",
       "    <tr>\n",
       "      <th>4</th>\n",
       "      <td>0.06905</td>\n",
       "      <td>0</td>\n",
       "      <td>2.18</td>\n",
       "      <td>0</td>\n",
       "      <td>0.458</td>\n",
       "      <td>7.147</td>\n",
       "      <td>54.2</td>\n",
       "      <td>6.0622</td>\n",
       "      <td>3</td>\n",
       "      <td>222</td>\n",
       "      <td>18.7</td>\n",
       "      <td>396.90</td>\n",
       "      <td>5.33</td>\n",
       "      <td>36.2</td>\n",
       "    </tr>\n",
       "  </tbody>\n",
       "</table>\n",
       "</div>"
      ],
      "text/plain": [
       "      crim  zn  indus  chas    nox     rm   age     dis  rad  tax  ptratio  \\\n",
       "0  0.00632  18   2.31     0  0.538  6.575  65.2  4.0900    1  296     15.3   \n",
       "1  0.02731   0   7.07     0  0.469  6.421  78.9  4.9671    2  242     17.8   \n",
       "2  0.02729   0   7.07     0  0.469  7.185  61.1  4.9671    2  242     17.8   \n",
       "3  0.03237   0   2.18     0  0.458  6.998  45.8  6.0622    3  222     18.7   \n",
       "4  0.06905   0   2.18     0  0.458  7.147  54.2  6.0622    3  222     18.7   \n",
       "\n",
       "    black  lstat  medv  \n",
       "0  396.90   4.98  24.0  \n",
       "1  396.90   9.14  21.6  \n",
       "2  392.83   4.03  34.7  \n",
       "3  394.63   2.94  33.4  \n",
       "4  396.90   5.33  36.2  "
      ]
     },
     "execution_count": 27,
     "metadata": {},
     "output_type": "execute_result"
    }
   ],
   "source": [
    "Boston.head()"
   ]
  },
  {
   "cell_type": "code",
   "execution_count": 28,
   "metadata": {
    "collapsed": false
   },
   "outputs": [
    {
     "data": {
      "text/plain": [
       "crim       float64\n",
       "zn         float64\n",
       "indus      float64\n",
       "chas         int64\n",
       "nox        float64\n",
       "rm         float64\n",
       "age        float64\n",
       "dis        float64\n",
       "rad          int64\n",
       "tax          int64\n",
       "ptratio    float64\n",
       "black      float64\n",
       "lstat      float64\n",
       "medv       float64\n",
       "dtype: object"
      ]
     },
     "execution_count": 28,
     "metadata": {},
     "output_type": "execute_result"
    }
   ],
   "source": [
    "Boston.dtypes"
   ]
  },
  {
   "cell_type": "code",
   "execution_count": 29,
   "metadata": {
    "collapsed": false
   },
   "outputs": [
    {
     "name": "stdout",
     "output_type": "stream",
     "text": [
      "\n",
      "INSTALLED VERSIONS\n",
      "------------------\n",
      "Python: 2.7.11.final.0\n",
      "\n",
      "Statsmodels\n",
      "===========\n",
      "\n",
      "Installed: 0.6.1 (C:\\Anaconda2\\lib\\site-packages\\statsmodels)\n",
      "\n",
      "Required Dependencies\n",
      "=====================\n",
      "\n",
      "cython: 0.23.4 (C:\\Anaconda2\\lib\\site-packages\\Cython)\n",
      "numpy: 1.10.1 (C:\\Anaconda2\\lib\\site-packages\\numpy)\n",
      "scipy: 0.16.0 (C:\\Anaconda2\\lib\\site-packages\\scipy)\n",
      "pandas: Cannot detect version (C:\\Anaconda2\\lib\\site-packages\\pandas)\n",
      "    dateutil: 2.4.2 (C:\\Anaconda2\\lib\\site-packages\\dateutil)\n",
      "patsy: 0.4.1+dev (C:\\Anaconda2\\lib\\site-packages\\patsy)\n",
      "\n",
      "Optional Dependencies\n",
      "=====================\n",
      "\n",
      "matplotlib: 1.5.0 (C:\\Anaconda2\\lib\\site-packages\\matplotlib)\n",
      "cvxopt: Not installed\n",
      "\n",
      "Developer Tools\n",
      "================\n",
      "\n",
      "IPython: 4.0.0 (C:\\Anaconda2\\lib\\site-packages\\IPython)\n",
      "    jinja2: 2.8 (C:\\Anaconda2\\lib\\site-packages\\jinja2)\n",
      "sphinx: 1.3.1 (c:\\anaconda2\\lib\\site-packages\\sphinx-1.3.1-py2.7.egg\\sphinx)\n",
      "    pygments: 2.0.2 (C:\\Anaconda2\\lib\\site-packages\\pygments)\n",
      "nose: 1.3.7 (C:\\Anaconda2\\lib\\site-packages\\nose)\n",
      "virtualenv: Not installed\n",
      "\n",
      "\n"
     ]
    }
   ],
   "source": [
    "# patsy: 0.4.1+dev\n",
    "# used to correct error message for fit3:\n",
    "# ValueError: For numerical factors, num_columns must be an int.\n",
    "# Source: https://groups.google.com/forum/#!topic/pystatsmodels/KcSzNqDxv-Q\n",
    "sm.show_versions()"
   ]
  },
  {
   "cell_type": "code",
   "execution_count": 30,
   "metadata": {
    "collapsed": false
   },
   "outputs": [
    {
     "name": "stdout",
     "output_type": "stream",
     "text": [
      "                            OLS Regression Results                            \n",
      "==============================================================================\n",
      "Dep. Variable:                   medv   R-squared:                       0.741\n",
      "Model:                            OLS   Adj. R-squared:                  0.734\n",
      "Method:                 Least Squares   F-statistic:                     108.1\n",
      "Date:                Mon, 22 Feb 2016   Prob (F-statistic):          6.72e-135\n",
      "Time:                        16:33:34   Log-Likelihood:                -1498.8\n",
      "No. Observations:                 506   AIC:                             3026.\n",
      "Df Residuals:                     492   BIC:                             3085.\n",
      "Df Model:                          13                                         \n",
      "Covariance Type:            nonrobust                                         \n",
      "==============================================================================\n",
      "                 coef    std err          t      P>|t|      [95.0% Conf. Int.]\n",
      "------------------------------------------------------------------------------\n",
      "Intercept     36.4595      5.103      7.144      0.000        26.432    46.487\n",
      "crim          -0.1080      0.033     -3.287      0.001        -0.173    -0.043\n",
      "zn             0.0464      0.014      3.382      0.001         0.019     0.073\n",
      "indus          0.0206      0.061      0.334      0.738        -0.100     0.141\n",
      "chas           2.6867      0.862      3.118      0.002         0.994     4.380\n",
      "nox          -17.7666      3.820     -4.651      0.000       -25.272   -10.262\n",
      "rm             3.8099      0.418      9.116      0.000         2.989     4.631\n",
      "age            0.0007      0.013      0.052      0.958        -0.025     0.027\n",
      "dis           -1.4756      0.199     -7.398      0.000        -1.867    -1.084\n",
      "rad            0.3060      0.066      4.613      0.000         0.176     0.436\n",
      "tax           -0.0123      0.004     -3.280      0.001        -0.020    -0.005\n",
      "ptratio       -0.9527      0.131     -7.283      0.000        -1.210    -0.696\n",
      "black          0.0093      0.003      3.467      0.001         0.004     0.015\n",
      "lstat         -0.5248      0.051    -10.347      0.000        -0.624    -0.425\n",
      "==============================================================================\n",
      "Omnibus:                      178.041   Durbin-Watson:                   1.078\n",
      "Prob(Omnibus):                  0.000   Jarque-Bera (JB):              783.126\n",
      "Skew:                           1.521   Prob(JB):                    8.84e-171\n",
      "Kurtosis:                       8.281   Cond. No.                     1.51e+04\n",
      "==============================================================================\n",
      "\n",
      "Warnings:\n",
      "[1] Standard Errors assume that the covariance matrix of the errors is correctly specified.\n",
      "[2] The condition number is large, 1.51e+04. This might indicate that there are\n",
      "strong multicollinearity or other numerical problems.\n"
     ]
    }
   ],
   "source": [
    "fit3 = smf.ols(formula='medv~crim+zn+indus+chas+nox+rm+age+dis+rad+tax+ptratio+black+lstat', \n",
    "               data=Boston).fit()\n",
    "print fit3.summary()"
   ]
  },
  {
   "cell_type": "code",
   "execution_count": 31,
   "metadata": {
    "collapsed": false
   },
   "outputs": [
    {
     "name": "stdout",
     "output_type": "stream",
     "text": [
      "                            OLS Regression Results                            \n",
      "==============================================================================\n",
      "Dep. Variable:                   medv   R-squared:                       0.741\n",
      "Model:                            OLS   Adj. R-squared:                  0.735\n",
      "Method:                 Least Squares   F-statistic:                     128.2\n",
      "Date:                Mon, 22 Feb 2016   Prob (F-statistic):          5.54e-137\n",
      "Time:                        16:33:34   Log-Likelihood:                -1498.9\n",
      "No. Observations:                 506   AIC:                             3022.\n",
      "Df Residuals:                     494   BIC:                             3072.\n",
      "Df Model:                          11                                         \n",
      "Covariance Type:            nonrobust                                         \n",
      "==============================================================================\n",
      "                 coef    std err          t      P>|t|      [95.0% Conf. Int.]\n",
      "------------------------------------------------------------------------------\n",
      "Intercept     36.3411      5.067      7.171      0.000        26.385    46.298\n",
      "crim          -0.1084      0.033     -3.307      0.001        -0.173    -0.044\n",
      "zn             0.0458      0.014      3.390      0.001         0.019     0.072\n",
      "chas           2.7187      0.854      3.183      0.002         1.040     4.397\n",
      "nox          -17.3760      3.535     -4.915      0.000       -24.322   -10.430\n",
      "rm             3.8016      0.406      9.356      0.000         3.003     4.600\n",
      "dis           -1.4927      0.186     -8.037      0.000        -1.858    -1.128\n",
      "rad            0.2996      0.063      4.726      0.000         0.175     0.424\n",
      "tax           -0.0118      0.003     -3.493      0.001        -0.018    -0.005\n",
      "ptratio       -0.9465      0.129     -7.334      0.000        -1.200    -0.693\n",
      "black          0.0093      0.003      3.475      0.001         0.004     0.015\n",
      "lstat         -0.5226      0.047    -11.019      0.000        -0.616    -0.429\n",
      "==============================================================================\n",
      "Omnibus:                      178.430   Durbin-Watson:                   1.078\n",
      "Prob(Omnibus):                  0.000   Jarque-Bera (JB):              787.785\n",
      "Skew:                           1.523   Prob(JB):                    8.60e-172\n",
      "Kurtosis:                       8.300   Cond. No.                     1.47e+04\n",
      "==============================================================================\n",
      "\n",
      "Warnings:\n",
      "[1] Standard Errors assume that the covariance matrix of the errors is correctly specified.\n",
      "[2] The condition number is large, 1.47e+04. This might indicate that there are\n",
      "strong multicollinearity or other numerical problems.\n"
     ]
    }
   ],
   "source": [
    "f = 'medv ~ crim+zn+chas+nox+rm+dis+rad+tax+ptratio+black+lstat'\n",
    "fit4 = smf.ols(formula=f, data=Boston).fit()\n",
    "print fit4.summary()"
   ]
  },
  {
   "cell_type": "markdown",
   "metadata": {},
   "source": [
    "## fit5, 6, & 7 - nonlinear terms & interactions"
   ]
  },
  {
   "cell_type": "code",
   "execution_count": 32,
   "metadata": {
    "collapsed": false
   },
   "outputs": [
    {
     "name": "stdout",
     "output_type": "stream",
     "text": [
      "                            OLS Regression Results                            \n",
      "==============================================================================\n",
      "Dep. Variable:                   medv   R-squared:                       0.556\n",
      "Model:                            OLS   Adj. R-squared:                  0.553\n",
      "Method:                 Least Squares   F-statistic:                     209.3\n",
      "Date:                Mon, 22 Feb 2016   Prob (F-statistic):           4.86e-88\n",
      "Time:                        16:33:34   Log-Likelihood:                -1635.0\n",
      "No. Observations:                 506   AIC:                             3278.\n",
      "Df Residuals:                     502   BIC:                             3295.\n",
      "Df Model:                           3                                         \n",
      "Covariance Type:            nonrobust                                         \n",
      "==============================================================================\n",
      "                 coef    std err          t      P>|t|      [95.0% Conf. Int.]\n",
      "------------------------------------------------------------------------------\n",
      "Intercept     36.0885      1.470     24.553      0.000        33.201    38.976\n",
      "lstat         -1.3921      0.167     -8.313      0.000        -1.721    -1.063\n",
      "age           -0.0007      0.020     -0.036      0.971        -0.040     0.038\n",
      "lstat:age      0.0042      0.002      2.244      0.025         0.001     0.008\n",
      "==============================================================================\n",
      "Omnibus:                      135.601   Durbin-Watson:                   0.965\n",
      "Prob(Omnibus):                  0.000   Jarque-Bera (JB):              296.955\n",
      "Skew:                           1.417   Prob(JB):                     3.29e-65\n",
      "Kurtosis:                       5.461   Cond. No.                     6.88e+03\n",
      "==============================================================================\n",
      "\n",
      "Warnings:\n",
      "[1] Standard Errors assume that the covariance matrix of the errors is correctly specified.\n",
      "[2] The condition number is large, 6.88e+03. This might indicate that there are\n",
      "strong multicollinearity or other numerical problems.\n"
     ]
    }
   ],
   "source": [
    "fit5 = smf.ols(formula='medv~lstat*age', data=Boston).fit()\n",
    "print fit5.summary()"
   ]
  },
  {
   "cell_type": "code",
   "execution_count": 33,
   "metadata": {
    "collapsed": false
   },
   "outputs": [
    {
     "name": "stdout",
     "output_type": "stream",
     "text": [
      "                            OLS Regression Results                            \n",
      "==============================================================================\n",
      "Dep. Variable:                   medv   R-squared:                       0.641\n",
      "Model:                            OLS   Adj. R-squared:                  0.639\n",
      "Method:                 Least Squares   F-statistic:                     448.5\n",
      "Date:                Mon, 22 Feb 2016   Prob (F-statistic):          1.56e-112\n",
      "Time:                        16:33:34   Log-Likelihood:                -1581.3\n",
      "No. Observations:                 506   AIC:                             3169.\n",
      "Df Residuals:                     503   BIC:                             3181.\n",
      "Df Model:                           2                                         \n",
      "Covariance Type:            nonrobust                                         \n",
      "=================================================================================\n",
      "                    coef    std err          t      P>|t|      [95.0% Conf. Int.]\n",
      "---------------------------------------------------------------------------------\n",
      "Intercept        42.8620      0.872     49.149      0.000        41.149    44.575\n",
      "lstat            -2.3328      0.124    -18.843      0.000        -2.576    -2.090\n",
      "I(lstat ** 2)     0.0435      0.004     11.628      0.000         0.036     0.051\n",
      "==============================================================================\n",
      "Omnibus:                      107.006   Durbin-Watson:                   0.921\n",
      "Prob(Omnibus):                  0.000   Jarque-Bera (JB):              228.388\n",
      "Skew:                           1.128   Prob(JB):                     2.55e-50\n",
      "Kurtosis:                       5.397   Cond. No.                     1.13e+03\n",
      "==============================================================================\n",
      "\n",
      "Warnings:\n",
      "[1] Standard Errors assume that the covariance matrix of the errors is correctly specified.\n",
      "[2] The condition number is large, 1.13e+03. This might indicate that there are\n",
      "strong multicollinearity or other numerical problems.\n"
     ]
    }
   ],
   "source": [
    "fit6 = smf.ols(formula='medv ~ lstat + I(lstat**2)', data=Boston).fit()\n",
    "print fit6.summary()"
   ]
  },
  {
   "cell_type": "code",
   "execution_count": 34,
   "metadata": {
    "collapsed": false
   },
   "outputs": [],
   "source": [
    "fit7 = smf.ols(formula='medv ~ lstat + I(lstat**2) + I(lstat**3) + I(lstat**4)', data=Boston).fit()"
   ]
  },
  {
   "cell_type": "code",
   "execution_count": 35,
   "metadata": {
    "collapsed": false
   },
   "outputs": [
    {
     "data": {
      "text/plain": [
       "[<matplotlib.lines.Line2D at 0x1dbc2dd8>]"
      ]
     },
     "execution_count": 35,
     "metadata": {},
     "output_type": "execute_result"
    },
    {
     "data": {
      "image/png": "[encoded data removed]",
      "text/plain": [
       "<matplotlib.figure.Figure at 0x204a46a0>"
      ]
     },
     "metadata": {},
     "output_type": "display_data"
    }
   ],
   "source": [
    "fig = plt.figure(figsize=(8,8))\n",
    "\n",
    "plt.xlabel('lower status of the population (percent)')\n",
    "plt.ylabel('median value in $1000s')\n",
    "plt.xlim(-5,40)\n",
    "plt.ylim(0,60)\n",
    "plt.title('Housing Values in Suburbs of Boston')\n",
    "\n",
    "# plot polynomial lines\n",
    "plt.plot(Boston.lstat, fit6.predict(Boston), 'r.', label='Poly n=2')\n",
    "plt.plot(Boston.lstat, fit7.predict(Boston), 'b.', label='Poly n=4')\n",
    "plt.legend()\n",
    "plt.plot(Boston.lstat, Boston.medv, 'c.')"
   ]
  },
  {
   "cell_type": "code",
   "execution_count": null,
   "metadata": {
    "collapsed": true
   },
   "outputs": [],
   "source": []
  },
  {
   "cell_type": "markdown",
   "metadata": {
    "collapsed": true
   },
   "source": [
    "## sklearn\n",
    "Source: http://scikit-learn.org/stable/modules/linear_model.html"
   ]
  },
  {
   "cell_type": "code",
   "execution_count": 36,
   "metadata": {
    "collapsed": true
   },
   "outputs": [],
   "source": [
    "from sklearn import linear_model"
   ]
  },
  {
   "cell_type": "code",
   "execution_count": 37,
   "metadata": {
    "collapsed": true
   },
   "outputs": [],
   "source": [
    "from sklearn.metrics import mean_squared_error"
   ]
  },
  {
   "cell_type": "markdown",
   "metadata": {},
   "source": [
    "### fit1 - linear model"
   ]
  },
  {
   "cell_type": "code",
   "execution_count": 38,
   "metadata": {
    "collapsed": true
   },
   "outputs": [],
   "source": [
    "clf1 = linear_model.LinearRegression()"
   ]
  },
  {
   "cell_type": "code",
   "execution_count": 39,
   "metadata": {
    "collapsed": false
   },
   "outputs": [
    {
     "data": {
      "text/plain": [
       "LinearRegression(copy_X=True, fit_intercept=True, n_jobs=1, normalize=False)"
      ]
     },
     "execution_count": 39,
     "metadata": {},
     "output_type": "execute_result"
    }
   ],
   "source": [
    "X = Boston.lstat\n",
    "X = X.reshape((len(X), 1))    # require matrix shape\n",
    "y = Boston.medv\n",
    "\n",
    "\n",
    "clf1.fit(X, y)"
   ]
  },
  {
   "cell_type": "code",
   "execution_count": 40,
   "metadata": {
    "collapsed": false
   },
   "outputs": [
    {
     "name": "stdout",
     "output_type": "stream",
     "text": [
      "Coefficient: -0.95\n",
      "Intercept: 34.55\n"
     ]
    }
   ],
   "source": [
    "print 'Coefficient: %.2f\\nIntercept: %.2f' % (clf1.coef_, clf1.intercept_)"
   ]
  },
  {
   "cell_type": "code",
   "execution_count": 41,
   "metadata": {
    "collapsed": false
   },
   "outputs": [
    {
     "data": {
      "text/plain": [
       "[<matplotlib.lines.Line2D at 0x208d7e80>]"
      ]
     },
     "execution_count": 41,
     "metadata": {},
     "output_type": "execute_result"
    },
    {
     "data": {
      "image/png": "[encoded data removed]",
      "text/plain": [
       "<matplotlib.figure.Figure at 0x204a8a90>"
      ]
     },
     "metadata": {},
     "output_type": "display_data"
    }
   ],
   "source": [
    "fig = plt.figure(figsize=(8,8))\n",
    "plt.plot(X, y, 'c.')\n",
    "plt.xlabel('lower status of the population (percent)')\n",
    "plt.xlim(-5,40)\n",
    "plt.ylabel('median value in $1000s')\n",
    "plt.ylim(0,60)\n",
    "plt.title('Housing Values in Suburbs of Boston')\n",
    "plt.plot(X, clf1.predict(X))"
   ]
  },
  {
   "cell_type": "markdown",
   "metadata": {
    "collapsed": true
   },
   "source": [
    "Source: http://scikit-learn.org/stable/auto_examples/linear_model/plot_ols.html#example-linear-model-plot-ols-py"
   ]
  },
  {
   "cell_type": "code",
   "execution_count": 42,
   "metadata": {
    "collapsed": false
   },
   "outputs": [
    {
     "name": "stdout",
     "output_type": "stream",
     "text": [
      "Residual sum of squares: 19472.38\n"
     ]
    }
   ],
   "source": [
    "print \"Residual sum of squares: %.2f\" % np.sum((clf1.predict(X) - y) ** 2)"
   ]
  },
  {
   "cell_type": "code",
   "execution_count": 43,
   "metadata": {
    "collapsed": false
   },
   "outputs": [
    {
     "data": {
      "text/plain": [
       "38.482967229894143"
      ]
     },
     "execution_count": 43,
     "metadata": {},
     "output_type": "execute_result"
    }
   ],
   "source": [
    "mean_squared_error(y, clf1.predict(X))"
   ]
  },
  {
   "cell_type": "code",
   "execution_count": 44,
   "metadata": {
    "collapsed": false
   },
   "outputs": [
    {
     "data": {
      "text/plain": [
       "array([ 29.80359411,  25.05334734,  20.30310057])"
      ]
     },
     "execution_count": 44,
     "metadata": {},
     "output_type": "execute_result"
    }
   ],
   "source": [
    "# prediction\n",
    "x1n = np.linspace(5,15, 3)\n",
    "Xnew = np.reshape(x1n, (len(x1n),1))    # do NOT add column of 1's\n",
    "clf1.predict(Xnew)"
   ]
  },
  {
   "cell_type": "markdown",
   "metadata": {},
   "source": [
    "### fit2 - multiple linear regression"
   ]
  },
  {
   "cell_type": "code",
   "execution_count": 45,
   "metadata": {
    "collapsed": true
   },
   "outputs": [],
   "source": [
    "clf2 = linear_model.LinearRegression()"
   ]
  },
  {
   "cell_type": "code",
   "execution_count": 46,
   "metadata": {
    "collapsed": false
   },
   "outputs": [
    {
     "data": {
      "text/plain": [
       "LinearRegression(copy_X=True, fit_intercept=True, n_jobs=1, normalize=False)"
      ]
     },
     "execution_count": 46,
     "metadata": {},
     "output_type": "execute_result"
    }
   ],
   "source": [
    "X = Boston[['lstat', 'age']]\n",
    "y = Boston.medv\n",
    "\n",
    "clf2.fit(X, y)"
   ]
  },
  {
   "cell_type": "code",
   "execution_count": 47,
   "metadata": {
    "collapsed": false
   },
   "outputs": [
    {
     "name": "stdout",
     "output_type": "stream",
     "text": [
      "'lstat': \t-1.03\n",
      "'age': \t\t0.03\n",
      "Intercept: \t33.22\n"
     ]
    }
   ],
   "source": [
    "print \"'lstat': \\t%.2f\\n'age': \\t\\t%.2f\" % (clf2.coef_[0], clf2.coef_[1])\n",
    "print 'Intercept: \\t%.2f' % clf2.intercept_"
   ]
  },
  {
   "cell_type": "code",
   "execution_count": 48,
   "metadata": {
    "collapsed": false
   },
   "outputs": [
    {
     "data": {
      "text/plain": [
       "37.881677092412673"
      ]
     },
     "execution_count": 48,
     "metadata": {},
     "output_type": "execute_result"
    }
   ],
   "source": [
    "mean_squared_error(y, clf2.predict(X))"
   ]
  },
  {
   "cell_type": "markdown",
   "metadata": {
    "collapsed": true
   },
   "source": [
    "### ...\n",
    "### fit5, 6, & 7 - nonlinear terms & interactions"
   ]
  },
  {
   "cell_type": "code",
   "execution_count": 50,
   "metadata": {
    "collapsed": false
   },
   "outputs": [
    {
     "name": "stdout",
     "output_type": "stream",
     "text": [
      "'lstat': \t-1.3921\n",
      "'age': \t\t-0.0007\n",
      "'lstat:age': \t0.0042\n",
      "Intercept: \t36.0885\n",
      "MSE: \t\t37.51\n"
     ]
    },
    {
     "name": "stderr",
     "output_type": "stream",
     "text": [
      "C:\\Anaconda2\\lib\\site-packages\\ipykernel\\__main__.py:5: SettingWithCopyWarning: \n",
      "A value is trying to be set on a copy of a slice from a DataFrame.\n",
      "Try using .loc[row_indexer,col_indexer] = value instead\n",
      "\n",
      "See the caveats in the documentation: http://pandas.pydata.org/pandas-docs/stable/indexing.html#indexing-view-versus-copy\n"
     ]
    }
   ],
   "source": [
    "# fit5: medv~lstat*age\n",
    "clf5 = linear_model.LinearRegression()\n",
    "\n",
    "X = Boston[['lstat', 'age']]\n",
    "X['lstat:age'] = X.lstat * X.age\n",
    "y = Boston.medv\n",
    "\n",
    "clf5.fit(X, y)\n",
    "\n",
    "print \"'lstat': \\t%.4f\\n'age': \\t\\t%.4f\\n'lstat:age': \\t%.4f\" % (clf5.coef_[0], clf5.coef_[1], clf5.coef_[2])\n",
    "print 'Intercept: \\t%.4f' % clf5.intercept_\n",
    "\n",
    "print \"MSE: \\t\\t%.2f\" % mean_squared_error(y, clf5.predict(X))"
   ]
  },
  {
   "cell_type": "code",
   "execution_count": 51,
   "metadata": {
    "collapsed": false
   },
   "outputs": [
    {
     "name": "stdout",
     "output_type": "stream",
     "text": [
      "Coefficients:  [-2.3328211   0.04354689]\n",
      "Intercept:  42.8620073282\n",
      "MSE:  30.3305200759\n"
     ]
    }
   ],
   "source": [
    "# fit6: medv ~ lstat + I(lstat**2)\n",
    "clf6 = linear_model.LinearRegression()\n",
    "\n",
    "l = Boston.lstat\n",
    "l2 = Boston.lstat ** 2\n",
    "\n",
    "X6 = np.vstack((l, l2)).T\n",
    "y = Boston.medv\n",
    "\n",
    "clf6.fit(X6, y)\n",
    "print \"Coefficients: \", clf6.coef_\n",
    "print \"Intercept: \", clf6.intercept_\n",
    "print \"MSE: \", mean_squared_error(y, clf6.predict(X6))"
   ]
  },
  {
   "cell_type": "code",
   "execution_count": 52,
   "metadata": {
    "collapsed": false
   },
   "outputs": [
    {
     "name": "stdout",
     "output_type": "stream",
     "text": [
      "Coefficients:  [ -7.02846009e+00   4.95481136e-01  -1.63101703e-02   1.94867775e-04]\n",
      "Intercept:  57.3099552185\n",
      "MSE:  27.6041316505\n"
     ]
    }
   ],
   "source": [
    "# fit7: medv ~ lstat + I(lstat**2) + I(lstat**3) + I(lstat**4)\n",
    "clf7 = linear_model.LinearRegression()\n",
    "\n",
    "l = Boston.lstat\n",
    "l2 = Boston.lstat ** 2\n",
    "l3 = Boston.lstat ** 3\n",
    "l4 = Boston.lstat ** 4\n",
    "\n",
    "X7 = np.vstack((l, l2, l3, l4)).T\n",
    "y = Boston.medv\n",
    "\n",
    "clf7.fit(X7, y)\n",
    "print \"Coefficients: \", clf7.coef_\n",
    "print \"Intercept: \", clf7.intercept_\n",
    "print \"MSE: \", mean_squared_error(y, clf7.predict(X7))"
   ]
  },
  {
   "cell_type": "code",
   "execution_count": 53,
   "metadata": {
    "collapsed": false
   },
   "outputs": [
    {
     "data": {
      "text/plain": [
       "[<matplotlib.lines.Line2D at 0x20d85e10>]"
      ]
     },
     "execution_count": 53,
     "metadata": {},
     "output_type": "execute_result"
    },
    {
     "data": {
      "image/png": "[encoded data removed]",
      "text/plain": [
       "<matplotlib.figure.Figure at 0x20372668>"
      ]
     },
     "metadata": {},
     "output_type": "display_data"
    }
   ],
   "source": [
    "fig = plt.figure(figsize=(8,8))\n",
    "\n",
    "plt.xlabel('lower status of the population (percent)')\n",
    "plt.ylabel('median value in $1000s')\n",
    "plt.xlim(-5,40)\n",
    "plt.ylim(0,60)\n",
    "plt.title('Housing Values in Suburbs of Boston')\n",
    "\n",
    "# plot polynomial lines\n",
    "plt.plot(Boston.lstat, clf6.predict(X6), 'r.', label='Poly n=2')\n",
    "plt.plot(Boston.lstat, clf7.predict(X7), 'b.', label='Poly n=4')\n",
    "plt.legend()\n",
    "plt.plot(Boston.lstat, Boston.medv, 'm.')"
   ]
  },
  {
   "cell_type": "code",
   "execution_count": null,
   "metadata": {
    "collapsed": true
   },
   "outputs": [],
   "source": []
  }
 ],
 "metadata": {
  "kernelspec": {
   "display_name": "Python 2",
   "language": "python",
   "name": "python2"
  },
  "language_info": {
   "codemirror_mode": {
    "name": "ipython",
    "version": 2
   },
   "file_extension": ".py",
   "mimetype": "text/x-python",
   "name": "python",
   "nbconvert_exporter": "python",
   "pygments_lexer": "ipython2",
   "version": "2.7.11"
  }
 },
 "nbformat": 4,
 "nbformat_minor": 0
}
